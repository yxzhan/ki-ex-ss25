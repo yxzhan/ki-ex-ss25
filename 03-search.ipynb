{
 "cells": [
  {
   "attachments": {},
   "cell_type": "markdown",
   "id": "b741446e-e8c6-474c-9ba6-23f17c53c9de",
   "metadata": {},
   "source": [
    "# Uninformed search\n",
    "\n",
    "## State Space binary tree\n",
    "\n",
    "Consider the state space defined by a start state 1 and a successor function that assigns the states 2n und 2n + 1 as children of each state n. The goal is to find the path to a given number x.\n",
    "\n",
    "> Hint: `Ctrl + enter` to run the coded"
   ]
  },
  {
   "cell_type": "code",
   "execution_count": 1,
   "id": "a9684ed7-2426-48cb-91ea-bd060d9caf78",
   "metadata": {
    "trusted": true
   },
   "outputs": [
    {
     "name": "stdout",
     "output_type": "stream",
     "text": [
      "\n",
      "                    ____________________1____________________\n",
      "                   /                                         \\\n",
      "          ________2_________                         _________3_________\n",
      "         /                  \\                       /                   \\\n",
      "     ___4___             ____5___              ____6___              ____7___\n",
      "    /       \\           /        \\            /        \\            /        \\\n",
      "  _8        _9        _10        _11        _12        _13        _14        _15\n",
      " /  \\      /  \\      /   \\      /   \\      /   \\      /   \\      /   \\      /   \\\n",
      "16   17   18   19   20    21   22    23   24    25   26    27   28    29   30    31\n",
      "\n"
     ]
    }
   ],
   "source": [
    "from binarytree import Node  # For creating and visualizing binary tree nodes\n",
    "from time import sleep\n",
    "from IPython.display import clear_output  # For dynamic display updates in notebooks\n",
    "\n",
    "def print_tree(wait=0.5):\n",
    "    \"\"\"Debuging function dynamically displays the current tree state.\n",
    "    \n",
    "    Args:\n",
    "        wait (float): Delay time (seconds) to control animation speed\n",
    "    \"\"\"\n",
    "    clear_output(wait=True)  # Clear previous output without flickering\n",
    "    print(state_space)         # Print current tree structure using binarytree's Node __str__ method\n",
    "    sleep(wait)              # Pause to create animation effect\n",
    "\n",
    "def insert_node(root, max_num=7):\n",
    "    \"\"\"Recursively builds a binary tree following the 2n, 2n+1 successor function.\n",
    "    \n",
    "    Args:\n",
    "        root (Node): Current node (state)\n",
    "        max_num (int): Maximum node value to create (controls tree depth)\n",
    "    \"\"\"\n",
    "    \n",
    "    # Calculate child values according to problem's state space rules\n",
    "    left_child_value = root.value * 2\n",
    "    right_child_value = root.value * 2 + 1\n",
    "\n",
    "    # Create left child if it doesn't exceed maximum allowed value\n",
    "    if left_child_value <= max_num:\n",
    "        print_tree()  # Update visualization\n",
    "        root.left = Node(left_child_value)  # Create left child node\n",
    "        insert_node(root.left, max_num)  # Recursively build left subtree\n",
    "\n",
    "    # Create right child if it doesn't exceed maximum allowed value\n",
    "    if right_child_value <= max_num:\n",
    "        print_tree()  # Update visualization\n",
    "        root.right = Node(right_child_value)  # Create right child node\n",
    "        insert_node(root.right, max_num)  # Recursively build right subtree\n",
    "\n",
    "# Initialize tree with root node (start state = 1)\n",
    "state_space = Node(1)\n",
    "\n",
    "# Build the tree up to node value 31 (creates 5-level complete binary tree)\n",
    "insert_node(state_space, max_num=31)\n",
    "\n",
    "# Display final tree structure\n",
    "print_tree()"
   ]
  },
  {
   "cell_type": "markdown",
   "id": "f39a526a-85b9-4020-858e-0d06803f44a5",
   "metadata": {},
   "source": [
    "## Further Exercie:\n",
    "\n",
    "Implement:\n",
    "- Breadth-first search\n",
    "- Depth-first search\n",
    "- iterative deepening search"
   ]
  },
  {
   "cell_type": "code",
   "execution_count": null,
   "id": "9a78315f-6412-4550-aee7-174a019105e8",
   "metadata": {
    "trusted": true
   },
   "outputs": [],
   "source": []
  },
  {
   "cell_type": "markdown",
   "id": "2b0798dc-19bb-4f71-815e-23bfa2e762a9",
   "metadata": {},
   "source": [
    "### Solutions\n",
    "\n",
    "Click the code cell below to expand."
   ]
  },
  {
   "cell_type": "code",
   "execution_count": 4,
   "id": "eedbc239-e7ac-420b-9c1b-cd52d43db907",
   "metadata": {
    "jupyter": {
     "source_hidden": true
    },
    "trusted": true
   },
   "outputs": [
    {
     "name": "stdout",
     "output_type": "stream",
     "text": [
      "\n",
      "                 ________1________\n",
      "                /                 \\\n",
      "          _____2___             ___3___\n",
      "         /         \\           /       \\\n",
      "     ___4___       _5        _6        _7\n",
      "    /       \\     /  \\      /  \\      /  \\\n",
      "  _8        _9   10   11   12   13   14   15\n",
      " /  \\      /\n",
      "16   17   18\n",
      "\n",
      "Breadth-First Search sequence: [1, 2, 3, 4, 5, 6, 7, 8, 9, 10, 11, 12, 13, 14, 15, 16, 17, 18]\n"
     ]
    }
   ],
   "source": [
    "# Breadth-First Search (BFS)\n",
    "from collections import deque  # Required for BFS queue operations\n",
    "\n",
    "def breadth_first_search(root, target_num):\n",
    "    \"\"\"Builds the binary tree using Breadth-First Search (BFS) approach.\n",
    "    \n",
    "    Args:\n",
    "        root (Node): The root node of the tree.\n",
    "        target_num (int): the search target x.\n",
    "    \"\"\"\n",
    "    queue = deque([root])  # Initialize the queue with the root node\n",
    "    visited = [] # to record the visited node\n",
    "    while queue:\n",
    "        current_node = queue.popleft()  # Dequeue the front node\n",
    "        visited.append(current_node.value)\n",
    "        \n",
    "        # Calculate possible left and right child values\n",
    "        left_val = current_node.value * 2\n",
    "        right_val = current_node.value * 2 + 1\n",
    "        \n",
    "        # Process left child if within the allowed range\n",
    "        if left_val <= target_num:\n",
    "            print_tree()  # Update visualization before adding the node\n",
    "            current_node.left = Node(left_val)\n",
    "            queue.append(current_node.left)  # Enqueue the new left child\n",
    "        \n",
    "        # Process right child if within the allowed range\n",
    "        if right_val <= target_num:\n",
    "            print_tree()  # Update visualization before adding the node\n",
    "            current_node.right = Node(right_val)\n",
    "            queue.append(current_node.right)  # Enqueue the new right child\n",
    "    return visited\n",
    "\n",
    "# Initialize the tree with the root node (start state = 1)\n",
    "state_space = Node(1)\n",
    "\n",
    "# Build the tree using BFS up to node value 18 (creates nodes level by level)\n",
    "bfs_visited_states = breadth_first_search(state_space, target_num=18)\n",
    "\n",
    "# Display the final tree structure\n",
    "print_tree()\n",
    "print('Breadth-First Search sequence:', bfs_visited_states)"
   ]
  },
  {
   "cell_type": "code",
   "execution_count": 9,
   "id": "0a67c259-7b61-4166-80cf-b0306a64e4d3",
   "metadata": {
    "jupyter": {
     "source_hidden": true
    },
    "trusted": true
   },
   "outputs": [
    {
     "name": "stdout",
     "output_type": "stream",
     "text": [
      "\n",
      "                 __1\n",
      "                /   \\\n",
      "          _____2     3\n",
      "         /      \\\n",
      "     ___4___     5\n",
      "    /       \\\n",
      "  _8        _9\n",
      " /  \\      /\n",
      "16   17   18\n",
      "\n",
      "Depth-First Search sequence: [1, 2, 4, 8, 16, 17, 9, 18]\n"
     ]
    }
   ],
   "source": [
    "# Depth-First Search (DFS)\n",
    "\n",
    "def depth_first_search(root, target_num):\n",
    "    \"\"\"Builds the binary tree using Depth-First Search (DFS) with a stack.\n",
    "    \n",
    "    Args:\n",
    "        root (Node): The root node of the tree.\n",
    "        target_num (int): the search target x.\n",
    "    \"\"\"\n",
    "    stack = [root]  # Initialize stack with root node\n",
    "    visited = [] # to record the visited node\n",
    "    \n",
    "    while stack:\n",
    "        current_node = stack.pop()  # Pop the top node from the stack\n",
    "        visited.append(current_node.value)\n",
    "        \n",
    "        # Interrupt the loop when target number is found\n",
    "        if current_node.value == target_num:\n",
    "            return visited\n",
    "        \n",
    "        # Calculate possible left and right child values\n",
    "        left_val = current_node.value * 2\n",
    "        right_val = current_node.value * 2 + 1\n",
    "        \n",
    "        children = []  # Track children to add to the stack in reverse order\n",
    "        \n",
    "        # Process left child first \n",
    "        if left_val <= target_num:\n",
    "            print_tree()  # Update visualization\n",
    "            current_node.left = Node(left_val)\n",
    "            children.append(current_node.left)\n",
    "    \n",
    "        # Process right child\n",
    "        if right_val <= target_num:\n",
    "            print_tree()  # Update visualization\n",
    "            current_node.right = Node(right_val)\n",
    "            children.append(current_node.right)\n",
    "            \n",
    "\n",
    "        # Push children to the stack in reverse order (left first, then right)\n",
    "        # This ensures left child is processed next (LIFO behavior)\n",
    "        stack.extend(reversed(children))\n",
    "    return visited\n",
    "\n",
    "# Initialize the tree with the root node (start state = 1)\n",
    "state_space = Node(1)\n",
    "\n",
    "# Build the tree using DFS up to node value 18\n",
    "dsf_visited_states = depth_first_search(state_space, target_num=18)\n",
    "\n",
    "# Display the final tree structure\n",
    "print_tree()\n",
    "print('Depth-First Search sequence:', dsf_visited_states)"
   ]
  },
  {
   "cell_type": "code",
   "execution_count": 6,
   "id": "1010945c-a096-473a-af53-dc448294ddb9",
   "metadata": {
    "jupyter": {
     "source_hidden": true
    },
    "trusted": true
   },
   "outputs": [
    {
     "name": "stdout",
     "output_type": "stream",
     "text": [
      "\n",
      "                 ________1________\n",
      "                /                 \\\n",
      "          _____2___             ___3___\n",
      "         /         \\           /       \\\n",
      "     ___4___       _5        _6        _7\n",
      "    /       \\     /  \\      /  \\      /  \\\n",
      "  _8        _9   10   11   12   13   14   15\n",
      " /  \\      /\n",
      "16   17   18\n",
      "\n",
      "Depth-First Search sequence: [1, 1, 2, 3, 1, 2, 4, 5, 3, 6, 7, 1, 2, 4, 8, 9, 5, 10, 11, 3, 6, 12, 13, 7, 14, 15, 1, 2, 4, 8, 16, 17, 9, 18]\n"
     ]
    }
   ],
   "source": [
    "# Iterative Deepening Search (IDS)\n",
    "\n",
    "def iterative_deepening_search(root, target_num):\n",
    "    \"\"\"Build the tree using Iterative Deepening Search (IDS).\"\"\"\n",
    "    depth_limit = 0  # Start with depth 0 (root only)\n",
    "    visited = [] # to record the visited node\n",
    "    \n",
    "    while True:\n",
    "        nodes_added = 0  # Track if any new nodes were added at this depth\n",
    "        stack = [(root, 0)]  # (node, current_depth)\n",
    "        \n",
    "        while stack:\n",
    "            current_node, current_depth = stack.pop()\n",
    "\n",
    "            visited.append(current_node.value)\n",
    "            # Interrupt the loop when target number is found\n",
    "            if current_node.value == target_num:\n",
    "                return visited\n",
    "            \n",
    "            if current_depth > depth_limit:\n",
    "                continue  # Skip nodes beyond current depth limit\n",
    "            \n",
    "            if current_depth == depth_limit:\n",
    "                # Try to add children at this depth level\n",
    "                left_val = current_node.value * 2\n",
    "                right_val = current_node.value * 2 + 1\n",
    "                \n",
    "                # Add left child if it doesn't exist and is valid\n",
    "                if left_val <= target_num and not current_node.left:\n",
    "                    current_node.left = Node(left_val)\n",
    "                    nodes_added += 1\n",
    "                    print_tree()  # Update visualization\n",
    "                \n",
    "                # Add right child if it doesn't exist and is valid\n",
    "                if right_val <= target_num and not current_node.right:\n",
    "                    current_node.right = Node(right_val)\n",
    "                    nodes_added += 1\n",
    "                    print_tree()  # Update visualization\n",
    "            else:\n",
    "                # Push existing children to stack (right first for left-first processing)\n",
    "                if current_node.right:\n",
    "                    stack.append((current_node.right, current_depth + 1))\n",
    "                if current_node.left:\n",
    "                    stack.append((current_node.left, current_depth + 1))\n",
    "        \n",
    "        # Stop if no new nodes were added at this depth\n",
    "        if nodes_added == 0:\n",
    "            break\n",
    "            \n",
    "        depth_limit += 1  # Increase depth for next iteration\n",
    "    return visited\n",
    "\n",
    "# Initialize tree with root node (value = 1)\n",
    "state_space = Node(1)\n",
    "\n",
    "# Build tree using IDS up to node value 18\n",
    "dsf_visited_states = iterative_deepening_search(state_space, target_num=18) \n",
    "\n",
    "\n",
    "# Display final tree\n",
    "print_tree()\n",
    "print('Iterative Deepening Search sequence:', dsf_visited_states)"
   ]
  },
  {
   "cell_type": "code",
   "execution_count": null,
   "id": "7e7a79d2-df80-494a-8dc2-f2e3eb014260",
   "metadata": {
    "trusted": true
   },
   "outputs": [],
   "source": []
  }
 ],
 "metadata": {
  "kernelspec": {
   "display_name": "Python 3 (ipykernel)",
   "language": "python",
   "name": "python3"
  },
  "language_info": {
   "codemirror_mode": {
    "name": "ipython",
    "version": 3
   },
   "file_extension": ".py",
   "mimetype": "text/x-python",
   "name": "python",
   "nbconvert_exporter": "python",
   "pygments_lexer": "ipython3",
   "version": "3.10.14"
  }
 },
 "nbformat": 4,
 "nbformat_minor": 5
}
