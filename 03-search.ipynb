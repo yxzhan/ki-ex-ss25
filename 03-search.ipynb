{
 "cells": [
  {
   "attachments": {},
   "cell_type": "markdown",
   "id": "b741446e-e8c6-474c-9ba6-23f17c53c9de",
   "metadata": {},
   "source": [
    "# Uninformed search\n",
    "\n",
    "## State Space binary tree\n",
    "\n",
    "Consider the state space defined by a start state 1 and a successor function that assigns the states 2n und 2n + 1 as children of each state n. The goal is to find the path to a given number x.\n",
    "\n",
    "> Hint: `Ctrl + enter` to run the coded"
   ]
  },
  {
   "cell_type": "code",
   "execution_count": 73,
   "id": "a9684ed7-2426-48cb-91ea-bd060d9caf78",
   "metadata": {
    "trusted": true
   },
   "outputs": [
    {
     "name": "stdout",
     "output_type": "stream",
     "text": [
      "\n",
      "        ________1__\n",
      "       /           \\\n",
      "    __2___          3\n",
      "   /      \\        / \\\n",
      "  4       _5      6   7\n",
      " / \\     /  \\\n",
      "8   9   10   11\n",
      "\n"
     ]
    }
   ],
   "source": [
    "from binarytree import Node  # For creating and visualizing binary tree nodes\n",
    "from time import sleep\n",
    "from IPython.display import clear_output  # For dynamic display updates in notebooks\n",
    "\n",
    "def print_tree(wait=0.5):\n",
    "    \"\"\"Debuging function dynamically displays the current tree state.\n",
    "    \n",
    "    Args:\n",
    "        wait (float): Delay time (seconds) to control animation speed\n",
    "    \"\"\"\n",
    "    clear_output(wait=True)  # Clear previous output without flickering\n",
    "    print(state_space)         # Print current tree structure using binarytree's Node __str__ method\n",
    "    sleep(wait)              # Pause to create animation effect\n",
    "\n",
    "def insert_node(root, max_num=7):\n",
    "    \"\"\"Recursively builds a binary tree following the 2n, 2n+1 successor function.\n",
    "    \n",
    "    Args:\n",
    "        root (Node): Current node (state)\n",
    "        max_num (int): Maximum node value to create (controls tree depth)\n",
    "    \"\"\"\n",
    "    \n",
    "    # Calculate child values according to problem's state space rules\n",
    "    left_child_value = root.value * 2\n",
    "    right_child_value = root.value * 2 + 1\n",
    "\n",
    "    # Create left child if it doesn't exceed maximum allowed value\n",
    "    if left_child_value <= max_num:\n",
    "        print_tree()  # Update visualization\n",
    "        root.left = Node(left_child_value)  # Create left child node\n",
    "        insert_node(root.left, max_num)  # Recursively build left subtree\n",
    "\n",
    "    # Create right child if it doesn't exceed maximum allowed value\n",
    "    if right_child_value <= max_num:\n",
    "        print_tree()  # Update visualization\n",
    "        root.right = Node(right_child_value)  # Create right child node\n",
    "        insert_node(root.right, max_num)  # Recursively build right subtree\n",
    "\n",
    "# Initialize tree with root node (start state = 1)\n",
    "state_space = Node(1)\n",
    "\n",
    "# Build the tree up to node value 31 (creates 5-level complete binary tree)\n",
    "insert_node(state_space, max_num=31)\n",
    "\n",
    "# Display final tree structure\n",
    "print_tree()"
   ]
  },
  {
   "cell_type": "markdown",
   "id": "f39a526a-85b9-4020-858e-0d06803f44a5",
   "metadata": {},
   "source": [
    "## Further Exercie:\n",
    "\n",
    "Implement:\n",
    "- Breadth-first search\n",
    "- Depth-first search\n",
    "- iterative deepening search"
   ]
  },
  {
   "cell_type": "code",
   "execution_count": null,
   "id": "9a78315f-6412-4550-aee7-174a019105e8",
   "metadata": {
    "trusted": true
   },
   "outputs": [],
   "source": []
  },
  {
   "cell_type": "markdown",
   "id": "2b0798dc-19bb-4f71-815e-23bfa2e762a9",
   "metadata": {},
   "source": [
    "### Solutions\n",
    "\n",
    "Click the code cell below to expand."
   ]
  },
  {
   "cell_type": "code",
   "execution_count": 75,
   "id": "eedbc239-e7ac-420b-9c1b-cd52d43db907",
   "metadata": {
    "jupyter": {
     "source_hidden": true
    },
    "trusted": true
   },
   "outputs": [
    {
     "name": "stdout",
     "output_type": "stream",
     "text": [
      "\n",
      "                 ________1________\n",
      "                /                 \\\n",
      "          _____2___             ___3___\n",
      "         /         \\           /       \\\n",
      "     ___4___       _5        _6        _7\n",
      "    /       \\     /  \\      /  \\      /  \\\n",
      "  _8        _9   10   11   12   13   14   15\n",
      " /  \\      /\n",
      "16   17   18\n",
      "\n",
      "Breadth-First Search sequence: [1, 2, 3, 4, 5, 6, 7, 8, 9, 10, 11, 12, 13, 14, 15, 16, 17, 18]\n"
     ]
    }
   ],
   "source": [
    "# Breadth-First Search (BFS)\n",
    "from collections import deque  # Required for BFS queue operations\n",
    "\n",
    "def breadth_first_search(root, target_num):\n",
    "    \"\"\"Builds the binary tree using Breadth-First Search (BFS) approach.\n",
    "    \n",
    "    Args:\n",
    "        root (Node): The root node of the tree.\n",
    "        target_num (int): the search target x.\n",
    "    \"\"\"\n",
    "    queue = deque([root])  # Initialize the queue with the root node\n",
    "    visited = [] # to record the visited node\n",
    "    while queue:\n",
    "        current_node = queue.popleft()  # Dequeue the front node\n",
    "        visited.append(current_node.value)\n",
    "        \n",
    "        # Calculate possible left and right child values\n",
    "        left_val = current_node.value * 2\n",
    "        right_val = current_node.value * 2 + 1\n",
    "        \n",
    "        # Process left child if within the allowed range\n",
    "        if left_val <= target_num:\n",
    "            print_tree()  # Update visualization before adding the node\n",
    "            current_node.left = Node(left_val)\n",
    "            queue.append(current_node.left)  # Enqueue the new left child\n",
    "        \n",
    "        # Process right child if within the allowed range\n",
    "        if right_val <= target_num:\n",
    "            print_tree()  # Update visualization before adding the node\n",
    "            current_node.right = Node(right_val)\n",
    "            queue.append(current_node.right)  # Enqueue the new right child\n",
    "    return visited\n",
    "\n",
    "# Initialize the tree with the root node (start state = 1)\n",
    "state_space = Node(1)\n",
    "\n",
    "# Build the tree using BFS up to node value 18 (creates nodes level by level)\n",
    "bfs_visited_states = breadth_first_search(state_space, target_num=18)\n",
    "\n",
    "# Display the final tree structure\n",
    "print_tree()\n",
    "print('Breadth-First Search sequence:', bfs_visited_states)"
   ]
  },
  {
   "cell_type": "code",
   "execution_count": 76,
   "id": "0a67c259-7b61-4166-80cf-b0306a64e4d3",
   "metadata": {
    "jupyter": {
     "source_hidden": true
    },
    "trusted": true
   },
   "outputs": [
    {
     "name": "stdout",
     "output_type": "stream",
     "text": [
      "\n",
      "                 __1\n",
      "                /   \\\n",
      "          _____2     3\n",
      "         /      \\\n",
      "     ___4___     5\n",
      "    /       \\\n",
      "  _8        _9\n",
      " /  \\      /\n",
      "16   17   18\n",
      "\n",
      "Depth-First Search sequence: [1, 2, 4, 8, 16, 17, 9, 18]\n"
     ]
    }
   ],
   "source": [
    "# Depth-First Search (DFS)\n",
    "\n",
    "def depth_first_search(root, target_num):\n",
    "    \"\"\"Builds the binary tree using Depth-First Search (DFS) with a stack.\n",
    "    \n",
    "    Args:\n",
    "        root (Node): The root node of the tree.\n",
    "        target_num (int): the search target x.\n",
    "    \"\"\"\n",
    "    stack = [root]  # Initialize stack with root node\n",
    "    visited = [] # to record the visited node\n",
    "    \n",
    "    while stack:\n",
    "        current_node = stack.pop()  # Pop the top node from the stack\n",
    "        visited.append(current_node.value)\n",
    "        \n",
    "        # Stop search when target value is found\n",
    "        if current_node.value == target_num:\n",
    "            return visited\n",
    "        \n",
    "        # Calculate possible left and right child values\n",
    "        left_val = current_node.value * 2\n",
    "        right_val = current_node.value * 2 + 1\n",
    "        \n",
    "        children = []  # Track children to add to the stack in reverse order\n",
    "        \n",
    "        # Process left child first \n",
    "        if left_val <= target_num:\n",
    "            print_tree()  # Update visualization\n",
    "            current_node.left = Node(left_val)\n",
    "            children.append(current_node.left)\n",
    "    \n",
    "        # Process right child\n",
    "        if right_val <= target_num:\n",
    "            print_tree()  # Update visualization\n",
    "            current_node.right = Node(right_val)\n",
    "            children.append(current_node.right)\n",
    "            \n",
    "\n",
    "        # Push children to the stack in reverse order (left first, then right)\n",
    "        # This ensures left child is processed next (LIFO behavior)\n",
    "        stack.extend(reversed(children))\n",
    "    return visited\n",
    "\n",
    "# Initialize the tree with the root node (start state = 1)\n",
    "state_space = Node(1)\n",
    "\n",
    "# Build the tree using DFS up to node value 18\n",
    "dsf_visited_states = depth_first_search(state_space, target_num=18)\n",
    "\n",
    "# Display the final tree structure\n",
    "print_tree()\n",
    "print('Depth-First Search sequence:', dsf_visited_states)"
   ]
  },
  {
   "cell_type": "code",
   "execution_count": null,
   "id": "de99b859-2669-446f-a1e5-58a8005d411e",
   "metadata": {
    "trusted": true
   },
   "outputs": [],
   "source": []
  }
 ],
 "metadata": {
  "kernelspec": {
   "display_name": "Python 3 (ipykernel)",
   "language": "python",
   "name": "python3"
  },
  "language_info": {
   "codemirror_mode": {
    "name": "ipython",
    "version": 3
   },
   "file_extension": ".py",
   "mimetype": "text/x-python",
   "name": "python",
   "nbconvert_exporter": "python",
   "pygments_lexer": "ipython3",
   "version": "3.10.14"
  }
 },
 "nbformat": 4,
 "nbformat_minor": 5
}
